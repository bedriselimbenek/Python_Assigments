{
 "cells": [
  {
   "cell_type": "markdown",
   "id": "8d856c75",
   "metadata": {},
   "source": [
    "Problem :\n",
    "\n",
    "Task : Estimating the risk of death from coronavirus. Write a program that;\n",
    "\n",
    "Takes \"Yes\" or \"No\" from the user as an answer to the following questions :\n",
    "\n",
    "Are you a cigarette addict older than 75 years old? Variable → age\n",
    "\n",
    "Do you have a severe chronic disease? Variable → chronic\n",
    "\n",
    "Is your immune system too weak? Variable → immune\n",
    "\n",
    "Set a logical algorithm using boolean logic operators (and/or) and use if-statements with the given variables in order to print out us a message : \"You are in risky group\"(if True ) or \"You are not in risky group\" (if False).\n",
    "\n",
    "age =  # can be assigned only True/False\n",
    "chronic =  # can be assigned only True/False\n",
    "immune =  # can be assigned only True/False\n",
    "risk = ?"
   ]
  },
  {
   "cell_type": "code",
   "execution_count": 1,
   "id": "801d5ea2",
   "metadata": {},
   "outputs": [
    {
     "name": "stdout",
     "output_type": "stream",
     "text": [
      " Evaluation of the Risk of Death Due to Coronavirus \n",
      "      \n",
      "       Please answer the following questions as True/False...\n",
      "       1- Are you a cigarette addict older than 75 years old?\n",
      "       2- Do you have a severe chronic disease?\n",
      "       3- Is your immune system too weak?\n",
      "       \n",
      "Are you a cigarette addict older than 75 years old?: 0\n",
      "Do you have a severe chronic disease?: 1\n",
      "Is your immune system too weak?: 2\n",
      "You are in risky group!\n"
     ]
    }
   ],
   "source": [
    "\n",
    "enter =\"\"\" Evaluation of the Risk of Death Due to Coronavirus \n",
    "      \n",
    "       Please answer the following questions as True/False...\n",
    "       1- Are you a cigarette addict older than 75 years old?\n",
    "       2- Do you have a severe chronic disease?\n",
    "       3- Is your immune system too weak?\n",
    "       \"\"\"\n",
    "print(enter)\n",
    "# please enter for your answer is YES = 1 or No = 0!\n",
    "age = bool(int(input(\"Are you a cigarette addict older than 75 years old?: \")))  \n",
    "chronic = bool(int(input(\"Do you have a severe chronic disease?: \")))\n",
    "immune = bool(int(input(\"Is your immune system too weak?: \")))\n",
    "\n",
    "risk = age or (chronic and immune)\n",
    "if risk:\n",
    "    print(\"You are in risky group!\")\n",
    "else:\n",
    "    print(\"You are not in risky group!\")"
   ]
  },
  {
   "cell_type": "code",
   "execution_count": null,
   "id": "aaba79b3",
   "metadata": {},
   "outputs": [],
   "source": []
  },
  {
   "cell_type": "code",
   "execution_count": null,
   "id": "b825a3dd",
   "metadata": {},
   "outputs": [],
   "source": []
  }
 ],
 "metadata": {
  "kernelspec": {
   "display_name": "Python 3 (ipykernel)",
   "language": "python",
   "name": "python3"
  },
  "language_info": {
   "codemirror_mode": {
    "name": "ipython",
    "version": 3
   },
   "file_extension": ".py",
   "mimetype": "text/x-python",
   "name": "python",
   "nbconvert_exporter": "python",
   "pygments_lexer": "ipython3",
   "version": "3.9.12"
  }
 },
 "nbformat": 4,
 "nbformat_minor": 5
}
