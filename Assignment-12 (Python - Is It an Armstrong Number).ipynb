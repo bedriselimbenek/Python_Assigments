{
 "cells": [
  {
   "cell_type": "markdown",
   "id": "c7353917",
   "metadata": {},
   "source": [
    "# Task:\n",
    "\n",
    "Find out if a given number is an \"Armstrong Number\".\n",
    "\n",
    "An n-digit number that is the sum of the nth powers of its digits is called an n-Armstrong number. Examples :\n",
    "371 = 33 + 73 + 13;\n",
    "9474 = 94 + 44 + 74 + 44;\n",
    "93084 = 95 + 35 + 05 + 85 + 45.\n",
    "\n",
    "Write a Python program that;\n",
    "1. takes a positive integer number from the user,\n",
    "2. checks the entered number if it is Armstrong,\n",
    "3. consider the negative, float and any entries other than numeric values then display a warning message to the user."
   ]
  },
  {
   "cell_type": "code",
   "execution_count": 1,
   "id": "037e1296",
   "metadata": {},
   "outputs": [
    {
     "name": "stdout",
     "output_type": "stream",
     "text": [
      "Sayıyı Giriniz:371\n",
      "371 is an Armstrong number\n"
     ]
    }
   ],
   "source": [
    "sayi = input(\"Sayıyı Giriniz:\")\n",
    "\n",
    "sayac = len(sayi)\n",
    "toplam = 0 \n",
    "if not sayi.isdigit():\n",
    "        print(\"It is an invalid entry. Don't use non-numeric, float, or negative values!\")\n",
    "elif sayi.isdigit(): \n",
    "    for i in sayi:\n",
    "        rakam = int(i) ** sayac\n",
    "        toplam += rakam\n",
    "        if int(sayi) == toplam:\n",
    "            print(f\"{sayi} is an Armstrong number\")\n",
    "            break\n",
    "    else:\n",
    "        print(f\"{sayi} is not an Armstrong number\")\n",
    "            "
   ]
  },
  {
   "cell_type": "code",
   "execution_count": null,
   "id": "3393eb75",
   "metadata": {},
   "outputs": [],
   "source": []
  }
 ],
 "metadata": {
  "kernelspec": {
   "display_name": "Python 3 (ipykernel)",
   "language": "python",
   "name": "python3"
  },
  "language_info": {
   "codemirror_mode": {
    "name": "ipython",
    "version": 3
   },
   "file_extension": ".py",
   "mimetype": "text/x-python",
   "name": "python",
   "nbconvert_exporter": "python",
   "pygments_lexer": "ipython3",
   "version": "3.9.12"
  }
 },
 "nbformat": 4,
 "nbformat_minor": 5
}
