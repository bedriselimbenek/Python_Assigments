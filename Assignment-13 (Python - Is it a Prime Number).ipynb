{
 "cells": [
  {
   "cell_type": "markdown",
   "id": "534b1790",
   "metadata": {},
   "source": [
    "# Task \n",
    "\n",
    "Write a program that takes a number from the user and prints the result to check if it is a prime number.\n",
    "\n",
    "The examples of the desired output are as follows :\n",
    "\n",
    "input →  19 ⇉ output : 19 is a prime number\n",
    "input →  10 ⇉ output : 10 is not a prime number"
   ]
  },
  {
   "cell_type": "markdown",
   "id": "10c17f42",
   "metadata": {},
   "source": [
    "Fermat öyle bir formül bulmuş ki, formülünde bizlere “n” yerine 0'dan farklı doğal sayılar yazarsak asal sayı verir demiş. Formülü; (2^(2^n))+1 dir."
   ]
  },
  {
   "cell_type": "code",
   "execution_count": 14,
   "id": "d07091e5",
   "metadata": {},
   "outputs": [
    {
     "name": "stdout",
     "output_type": "stream",
     "text": [
      "Lütfen bir sayı giriniz: 13\n",
      "Girdiniz 13 sayısı bir asal sayıdır.\n"
     ]
    }
   ],
   "source": [
    "user = int(input(\"Lütfen bir sayı giriniz: \"))\n",
    "sayac = 0\n",
    "for i in range(2, user):\n",
    "    if not user % i:\n",
    "        print(f\"Girdiğiniz {user} sayısı bir asal sayı değildir.\")\n",
    "        sayac += 1\n",
    "        break\n",
    "if not sayac:\n",
    "    print(f\"Girdiniz {user} sayısı bir asal sayıdır.\")               "
   ]
  },
  {
   "cell_type": "code",
   "execution_count": null,
   "id": "ff3d8db4",
   "metadata": {},
   "outputs": [],
   "source": []
  }
 ],
 "metadata": {
  "kernelspec": {
   "display_name": "Python 3 (ipykernel)",
   "language": "python",
   "name": "python3"
  },
  "language_info": {
   "codemirror_mode": {
    "name": "ipython",
    "version": 3
   },
   "file_extension": ".py",
   "mimetype": "text/x-python",
   "name": "python",
   "nbconvert_exporter": "python",
   "pygments_lexer": "ipython3",
   "version": "3.9.12"
  }
 },
 "nbformat": 4,
 "nbformat_minor": 5
}
