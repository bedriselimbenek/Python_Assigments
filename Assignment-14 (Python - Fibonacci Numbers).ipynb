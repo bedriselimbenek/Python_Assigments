{
 "cells": [
  {
   "cell_type": "markdown",
   "id": "ce96c342",
   "metadata": {},
   "source": [
    "# Task : \n",
    "\n",
    "Create a list consisting of Fibonacci numbers from 1 to 55 using control flow statements and range() function.\n",
    "\n",
    "The desired output is like this:\n",
    "\n",
    "fibonacci →  [1, 1, 2, 3, 5, 8, 13, 21, 34, 55]"
   ]
  },
  {
   "cell_type": "code",
   "execution_count": null,
   "id": "5678444a",
   "metadata": {},
   "outputs": [],
   "source": [
    "Kontrol akışı deyimlerini ve range() işlevini kullanarak 1'den 55'e kadar Fibonacci sayılarından oluşan bir liste oluşturun."
   ]
  },
  {
   "cell_type": "code",
   "execution_count": 44,
   "id": "c0552c8e",
   "metadata": {},
   "outputs": [
    {
     "name": "stdout",
     "output_type": "stream",
     "text": [
      "[1, 1, 2, 3, 5, 8, 13, 21, 34, 55]\n"
     ]
    }
   ],
   "source": [
    "fibonacci = []\n",
    "a, b= 0, 1\n",
    "fibonacci.append(b)\n",
    "for i in range(100):\n",
    "    c = a + b\n",
    "    a = b\n",
    "    b = c\n",
    "    fibonacci.append(c)\n",
    "    if c == 55:\n",
    "        break\n",
    "print(fibonacci)"
   ]
  },
  {
   "cell_type": "code",
   "execution_count": 41,
   "id": "63f7425d",
   "metadata": {},
   "outputs": [
    {
     "data": {
      "text/plain": [
       "[1, 1, 2, 3, 5, 8, 13, 21, 34, 55]"
      ]
     },
     "execution_count": 41,
     "metadata": {},
     "output_type": "execute_result"
    }
   ],
   "source": [
    "fibonacci = [1, 1]\n",
    "\n",
    "while fibonacci[-1] < 55 :\n",
    "  fibonacci.append(fibonacci[-1] + fibonacci[-2])\n",
    "\n",
    "fibonacci"
   ]
  }
 ],
 "metadata": {
  "kernelspec": {
   "display_name": "Python 3 (ipykernel)",
   "language": "python",
   "name": "python3"
  },
  "language_info": {
   "codemirror_mode": {
    "name": "ipython",
    "version": 3
   },
   "file_extension": ".py",
   "mimetype": "text/x-python",
   "name": "python",
   "nbconvert_exporter": "python",
   "pygments_lexer": "ipython3",
   "version": "3.9.12"
  }
 },
 "nbformat": 4,
 "nbformat_minor": 5
}
