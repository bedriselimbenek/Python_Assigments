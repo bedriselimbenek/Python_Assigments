{
 "cells": [
  {
   "cell_type": "markdown",
   "id": "18c3e2e4",
   "metadata": {},
   "source": [
    "Assignment-5 (Python - Leap Year)\n",
    "\n",
    "Task:\n",
    "\n",
    "Find out if a given year is a \"leap\" year.\n",
    "\n",
    "In the Gregorian calendar, three criteria must be taken into account to identify leap years:\n",
    "1- The year must be evenly divisible by 4;\n",
    "2- If the year can also be evenly divided by 100, it is not a leap year; unless...\n",
    "3- The year is also evenly divisible by 400. Then it is a leap year.\n",
    "\n",
    "According to these rules, the years 2000 and 2400 are leap years, while 1800, 1900, 2100, 2200, 2300, and 2500 are not the leap years.\n",
    "\n",
    "Write a Python program that;\n",
    "\n",
    "Takes a 4-digit year from the user,\n",
    "Prints True if the given year by the user is a leap year, prints False otherwise.\n"
   ]
  },
  {
   "cell_type": "code",
   "execution_count": 9,
   "id": "4c414a14",
   "metadata": {},
   "outputs": [
    {
     "name": "stdout",
     "output_type": "stream",
     "text": [
      "Please, enter a 4-digit year: 2400\n",
      "True\n"
     ]
    }
   ],
   "source": [
    "user = int(input(\"Please, enter a 4-digit year: \"))\n",
    "\n",
    "print((user % 4 == 0 and user % 400 == 0) or not (user % 100 == 0))"
   ]
  },
  {
   "cell_type": "code",
   "execution_count": 2,
   "id": "ca0e78f9",
   "metadata": {},
   "outputs": [
    {
     "name": "stdout",
     "output_type": "stream",
     "text": [
      "Please, enter a 4-digit year: 1800\n",
      "False\n"
     ]
    }
   ],
   "source": [
    "user = int(input(\"Please, enter a 4-digit year: \"))\n",
    "\n",
    "print(user % 400 == 0 or (user % 4 == 0 and user % 100 != 0))"
   ]
  },
  {
   "cell_type": "code",
   "execution_count": 6,
   "id": "b8e7bf94",
   "metadata": {},
   "outputs": [
    {
     "name": "stdout",
     "output_type": "stream",
     "text": [
      "Please, enter a 4-digit year: 1800\n",
      "False\n"
     ]
    }
   ],
   "source": [
    "year = int(input(\"Please, enter a 4-digit year: \"))\n",
    "leap =(year % 4 == 0) and (year % 100 != 0 or year % 400 == 0)\n",
    "print(leap)"
   ]
  },
  {
   "cell_type": "code",
   "execution_count": null,
   "id": "33f14dc3",
   "metadata": {},
   "outputs": [],
   "source": []
  }
 ],
 "metadata": {
  "kernelspec": {
   "display_name": "Python 3 (ipykernel)",
   "language": "python",
   "name": "python3"
  },
  "language_info": {
   "codemirror_mode": {
    "name": "ipython",
    "version": 3
   },
   "file_extension": ".py",
   "mimetype": "text/x-python",
   "name": "python",
   "nbconvert_exporter": "python",
   "pygments_lexer": "ipython3",
   "version": "3.9.12"
  }
 },
 "nbformat": 4,
 "nbformat_minor": 5
}
