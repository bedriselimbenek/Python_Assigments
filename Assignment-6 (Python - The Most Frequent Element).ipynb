{
 "cells": [
  {
   "cell_type": "markdown",
   "id": "bd03ff00",
   "metadata": {},
   "source": [
    "Task : Find out the most frequent number and its frequency.\n",
    "\n",
    "Write a program that;\n",
    "\n",
    "Finds out the most frequent number in the given list.\n",
    "Calculates its frequency.\n",
    "Prints out the result such as :\n",
    "numbers = [1, 3, 7, 4, 3, 0, 3, 6, 3] Desired output : the most frequent number is 3 and it was 4 times repeated"
   ]
  },
  {
   "cell_type": "markdown",
   "id": "26d63f98",
   "metadata": {},
   "source": [
    "the most frequent number is 3 and it was 4 times"
   ]
  },
  {
   "cell_type": "code",
   "execution_count": 7,
   "id": "47ccf740",
   "metadata": {},
   "outputs": [
    {
     "name": "stdout",
     "output_type": "stream",
     "text": [
      "The most frequent city is Bolu and it was 4 times repeated\n"
     ]
    }
   ],
   "source": [
    "city = [\"Ankara\", \"Bolu\", \"Erzurum\", \"Trabzon\", \"Şanlıurfa\", \"Bolu\", \"Sivas\", \"Bolu\", \"İstanbul\", \"Edirne\", \"Bolu\"]\n",
    "frequent = city.count(\"Bolu\")\n",
    "print(f\"The most frequent city is {city[1]} and it was {frequent} times repeated\")"
   ]
  },
  {
   "cell_type": "markdown",
   "id": "529dd6ee",
   "metadata": {},
   "source": [
    "# Edwin hoca lab "
   ]
  },
  {
   "cell_type": "markdown",
   "id": "883276ce",
   "metadata": {},
   "source": [
    "# maximum liste elemanını döndüren komut... max()"
   ]
  },
  {
   "cell_type": "code",
   "execution_count": 13,
   "id": "cde6b423",
   "metadata": {},
   "outputs": [],
   "source": [
    "numbers = [1, 3, 7, 4, 6, 3, 0, 3, 6, 3, 7, 6, 6]"
   ]
  },
  {
   "cell_type": "code",
   "execution_count": 9,
   "id": "25b447d7",
   "metadata": {},
   "outputs": [
    {
     "data": {
      "text/plain": [
       "7"
      ]
     },
     "execution_count": 9,
     "metadata": {},
     "output_type": "execute_result"
    }
   ],
   "source": [
    "max(numbers)"
   ]
  },
  {
   "cell_type": "markdown",
   "id": "8acd7a39",
   "metadata": {},
   "source": [
    "içine obje atıldığında en büyüğü dönüdürür."
   ]
  },
  {
   "cell_type": "code",
   "execution_count": 3,
   "id": "ea4702e6",
   "metadata": {},
   "outputs": [
    {
     "data": {
      "text/plain": [
       "35"
      ]
     },
     "execution_count": 3,
     "metadata": {},
     "output_type": "execute_result"
    }
   ],
   "source": [
    "max(11, 8, 35)"
   ]
  },
  {
   "cell_type": "code",
   "execution_count": 4,
   "id": "115bbe38",
   "metadata": {},
   "outputs": [
    {
     "data": {
      "text/plain": [
       "'y'"
      ]
     },
     "execution_count": 4,
     "metadata": {},
     "output_type": "execute_result"
    }
   ],
   "source": [
    "max(\"clarusway\")"
   ]
  },
  {
   "cell_type": "code",
   "execution_count": 5,
   "id": "12b0934d",
   "metadata": {},
   "outputs": [],
   "source": [
    "empty = []"
   ]
  },
  {
   "cell_type": "code",
   "execution_count": 7,
   "id": "4bf6019f",
   "metadata": {},
   "outputs": [
    {
     "data": {
      "text/plain": [
       "'Boş'"
      ]
     },
     "execution_count": 7,
     "metadata": {},
     "output_type": "execute_result"
    }
   ],
   "source": [
    "max(empty, default = \"Boş\")"
   ]
  },
  {
   "cell_type": "code",
   "execution_count": 12,
   "id": "431e879b",
   "metadata": {},
   "outputs": [
    {
     "data": {
      "text/plain": [
       "[1, 2, 3, 1, 2, 3]"
      ]
     },
     "execution_count": 12,
     "metadata": {},
     "output_type": "execute_result"
    }
   ],
   "source": [
    "sequence = [1, 2, 3]\n",
    "sequence.extend(sequence)\n",
    "sequence"
   ]
  },
  {
   "cell_type": "code",
   "execution_count": null,
   "id": "784cf31b",
   "metadata": {},
   "outputs": [],
   "source": [
    "from collections import Counter\n",
    "numbers = [1, 3, 7, 4, 3, 0, 3, 6, 3]\n",
    "mode_numbers = Counter(numbers)\n",
    "most_frequent = max(set(numbers), key = numbers.count)\n",
    "frequency = max(mode_numbers.values())\n",
    "print(f\"Most frequent number is {frequent} and it appears {frequency} times in the list.\")"
   ]
  },
  {
   "cell_type": "code",
   "execution_count": 14,
   "id": "a3aa6f24",
   "metadata": {},
   "outputs": [
    {
     "data": {
      "text/plain": [
       "3"
      ]
     },
     "execution_count": 14,
     "metadata": {},
     "output_type": "execute_result"
    }
   ],
   "source": [
    "max(numbers, key = numbers.count)"
   ]
  },
  {
   "cell_type": "code",
   "execution_count": 15,
   "id": "9acd1611",
   "metadata": {},
   "outputs": [
    {
     "name": "stdout",
     "output_type": "stream",
     "text": [
      "{0, 1, 3, 4, 6, 7}\n",
      "[1, 1, 4, 1, 1, 1]\n"
     ]
    }
   ],
   "source": [
    "numbers = [1, 3, 7, 4, 3, 0, 3, 6, 3]\n",
    "elemanlar= set(numbers)\n",
    "tekrar_sayıları= []\n",
    "for x in elemanlar:\n",
    "    tekrar_sayıları.append(numbers.count(x))\n",
    "    \n",
    "print(elemanlar)\n",
    "print(tekrar_sayıları)"
   ]
  },
  {
   "attachments": {
    "image.png": {
     "image/png": "[encoded data removed]"
    }
   },
   "cell_type": "markdown",
   "id": "53c9ca46",
   "metadata": {},
   "source": [
    "![image.png](attachment:image.png)"
   ]
  },
  {
   "cell_type": "code",
   "execution_count": 17,
   "id": "8442052f",
   "metadata": {},
   "outputs": [
    {
     "data": {
      "text/plain": [
       "2"
      ]
     },
     "execution_count": 17,
     "metadata": {},
     "output_type": "execute_result"
    }
   ],
   "source": [
    "count, fruit, price = (2, 'apple', 3.5)\n",
    "count"
   ]
  },
  {
   "cell_type": "code",
   "execution_count": 18,
   "id": "3d4798c0",
   "metadata": {},
   "outputs": [
    {
     "data": {
      "text/plain": [
       "3"
      ]
     },
     "execution_count": 18,
     "metadata": {},
     "output_type": "execute_result"
    }
   ],
   "source": [
    "a= [1, 2, 3]\n",
    "a.pop()"
   ]
  },
  {
   "cell_type": "code",
   "execution_count": 21,
   "id": "b670fdf8",
   "metadata": {},
   "outputs": [
    {
     "ename": "AttributeError",
     "evalue": "'list' object has no attribute 'delete'",
     "output_type": "error",
     "traceback": [
      "\u001b[1;31m---------------------------------------------------------------------------\u001b[0m",
      "\u001b[1;31mAttributeError\u001b[0m                            Traceback (most recent call last)",
      "Input \u001b[1;32mIn [21]\u001b[0m, in \u001b[0;36m<cell line: 1>\u001b[1;34m()\u001b[0m\n\u001b[1;32m----> 1\u001b[0m \u001b[43ma\u001b[49m\u001b[38;5;241;43m.\u001b[39;49m\u001b[43mdelete\u001b[49m(\u001b[38;5;241m1\u001b[39m)\n",
      "\u001b[1;31mAttributeError\u001b[0m: 'list' object has no attribute 'delete'"
     ]
    }
   ],
   "source": []
  },
  {
   "cell_type": "code",
   "execution_count": null,
   "id": "7f553b76",
   "metadata": {},
   "outputs": [],
   "source": []
  }
 ],
 "metadata": {
  "kernelspec": {
   "display_name": "Python 3 (ipykernel)",
   "language": "python",
   "name": "python3"
  },
  "language_info": {
   "codemirror_mode": {
    "name": "ipython",
    "version": 3
   },
   "file_extension": ".py",
   "mimetype": "text/x-python",
   "name": "python",
   "nbconvert_exporter": "python",
   "pygments_lexer": "ipython3",
   "version": "3.9.12"
  }
 },
 "nbformat": 4,
 "nbformat_minor": 5
}
