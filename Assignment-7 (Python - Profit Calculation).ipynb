{
 "cells": [
  {
   "cell_type": "markdown",
   "id": "e05ee929",
   "metadata": {},
   "source": [
    "# Task - 1 :\n",
    "You work for a manufacturer as a programmer and have been asked to calculate the total profit made on the sales of a product. You are given a dictionary (sales) containing the cost price per unit (in dollars), sell price per unit (in dollars), and the beginning inventory. Write a program to return the total profit made, rounded to the nearest dollar. Assume all of the inventory has been sold. The name and the keys of the dictionary are constant, so use them as they are.\n",
    "The example of the values (sell-cost value, inventory) and total profit :\n",
    "\n",
    "sales = {\n",
    "  \"cost_value\": 31.87,\n",
    "  \"sell_value\": 45.00,\n",
    "  \"inventory\": 1000\n",
    "}  \n",
    "\n",
    "the profit will be : 13130"
   ]
  },
  {
   "cell_type": "code",
   "execution_count": 3,
   "id": "0f58b244",
   "metadata": {},
   "outputs": [
    {
     "name": "stdout",
     "output_type": "stream",
     "text": [
      "13130\n"
     ]
    }
   ],
   "source": [
    "sales = { \"cost_value\": 31.87, \"sell_value\": 45.00, \"inventory\": 1000 }\n",
    "profit = (sales[\"sell_value\"] - sales[\"cost_value\"]) * sales[\"inventory\"]\n",
    "print(round(profit))"
   ]
  },
  {
   "cell_type": "code",
   "execution_count": null,
   "id": "1f4f323a",
   "metadata": {},
   "outputs": [],
   "source": []
  },
  {
   "cell_type": "markdown",
   "id": "ed4546e5",
   "metadata": {},
   "source": [
    "# Task - 2 :\n",
    "Your boss wants you to prepare the payrolls of the workers in your department. You have to convert the amount of dollars into payroll format. In order to help move things along, you have volunteered to write a code that will take a float and return the money in the following format (as dollars and cents). "
   ]
  },
  {
   "attachments": {
    "image.png": {
     "image/png": "[encoded data removed]"
    }
   },
   "cell_type": "markdown",
   "id": "f0c1978a",
   "metadata": {},
   "source": [
    "![image.png](attachment:image.png)"
   ]
  },
  {
   "cell_type": "code",
   "execution_count": 7,
   "id": "704806e7",
   "metadata": {},
   "outputs": [
    {
     "name": "stdout",
     "output_type": "stream",
     "text": [
      "Please! give an amount for Payroll: 29.99\n",
      "$29.99\n"
     ]
    }
   ],
   "source": [
    "amount = float(input(\"Please! give an amount for Payroll: \"))\n",
    "payroll_format = \"${:.2f}\".format(amount) \n",
    "print(payroll_format)"
   ]
  }
 ],
 "metadata": {
  "kernelspec": {
   "display_name": "Python 3 (ipykernel)",
   "language": "python",
   "name": "python3"
  },
  "language_info": {
   "codemirror_mode": {
    "name": "ipython",
    "version": 3
   },
   "file_extension": ".py",
   "mimetype": "text/x-python",
   "name": "python",
   "nbconvert_exporter": "python",
   "pygments_lexer": "ipython3",
   "version": "3.9.12"
  }
 },
 "nbformat": 4,
 "nbformat_minor": 5
}
