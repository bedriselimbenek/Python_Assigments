{
  "nbformat": 4,
  "nbformat_minor": 0,
  "metadata": {
    "colab": {
      "provenance": [],
      "authorship_tag": "ABX9TyOg8xig75Rbe1GtTQvP/gNH",
      "include_colab_link": true
    },
    "kernelspec": {
      "name": "python3",
      "display_name": "Python 3"
    },
    "language_info": {
      "name": "python"
    }
  },
  "cells": [
    {
      "cell_type": "markdown",
      "metadata": {
        "id": "view-in-github",
        "colab_type": "text"
      },
      "source": [
        "<a href=\"https://colab.research.google.com/github/bedriselimbenek/Python_Assigments/blob/main/Assignment_9_(Python_Password_Reminder).ipynb\" target=\"_parent\"><img src=\"https://colab.research.google.com/assets/colab-badge.svg\" alt=\"Open In Colab\"/></a>"
      ]
    },
    {
      "cell_type": "code",
      "execution_count": 2,
      "metadata": {
        "colab": {
          "base_uri": "https://localhost:8080/"
        },
        "id": "TUM_-LUZzCdD",
        "outputId": "7ec343e1-787b-4815-ea72-0c06057bdb50"
      },
      "outputs": [
        {
          "output_type": "stream",
          "name": "stdout",
          "text": [
            "Lütfen adı giriniz.: Joseph\n",
            "Hello, Joseph! The password is : W@12\n"
          ]
        }
      ],
      "source": [
        "name = \"Joseph\"\n",
        "password = \"W@12\"\n",
        "user = input(\"Lütfen adı giriniz.: \")\n",
        "\n",
        "if user == name:\n",
        "  print(f\"Hello, Joseph! The password is : {password}\")\n",
        "else:\n",
        "  print(\"Merhaba, Amina! Sonra görüşürüz\")"
      ]
    }
  ]
}