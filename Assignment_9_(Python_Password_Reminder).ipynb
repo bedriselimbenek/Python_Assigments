{
 "cells": [
  {
   "cell_type": "code",
   "execution_count": 3,
   "id": "a0a32d0d",
   "metadata": {},
   "outputs": [
    {
     "name": "stdout",
     "output_type": "stream",
     "text": [
      "Lütfen adı giriniz.: amina\n",
      "Merhaba, Amina! Sonra görüşürüz\n"
     ]
    }
   ],
   "source": [
    "name = \"Joseph\"\n",
    "password = \"W@12\"\n",
    "user = input(\"Lütfen adı giriniz.: \")\n",
    "\n",
    "if user.capitalize() == name:\n",
    "  print(f\"Hello, Joseph! The password is : {password}\")\n",
    "elif user.capitalize() == \"Amina\":\n",
    "  print(\"Merhaba, Amina! Sonra görüşürüz\")\n",
    "else:\n",
    "    print(\"Yanlış giriş yaptınız.\")"
   ]
  },
  {
   "cell_type": "code",
   "execution_count": null,
   "id": "226bdc09",
   "metadata": {},
   "outputs": [],
   "source": []
  }
 ],
 "metadata": {
  "kernelspec": {
   "display_name": "Python 3 (ipykernel)",
   "language": "python",
   "name": "python3"
  },
  "language_info": {
   "codemirror_mode": {
    "name": "ipython",
    "version": 3
   },
   "file_extension": ".py",
   "mimetype": "text/x-python",
   "name": "python",
   "nbconvert_exporter": "python",
   "pygments_lexer": "ipython3",
   "version": "3.9.12"
  }
 },
 "nbformat": 4,
 "nbformat_minor": 5
}
