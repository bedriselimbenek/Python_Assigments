{
 "cells": [
  {
   "cell_type": "markdown",
   "id": "5394f0a0",
   "metadata": {},
   "source": [
    "## Türkçe'ye duyarlı python "
   ]
  },
  {
   "cell_type": "code",
   "execution_count": 1,
   "id": "b16787c5",
   "metadata": {},
   "outputs": [],
   "source": [
    "import locale\n",
    "# locale modülünü kullanarak \n",
    "# Python'un istediğiniz herhangi bir dilin harflerine duyarlı olmasını sağlayabileceğinizi biliyor muydunuz."
   ]
  },
  {
   "cell_type": "code",
   "execution_count": 2,
   "id": "eadef64a",
   "metadata": {},
   "outputs": [
    {
     "data": {
      "text/plain": [
       "'tr_TR'"
      ]
     },
     "execution_count": 2,
     "metadata": {},
     "output_type": "execute_result"
    }
   ],
   "source": [
    "locale.setlocale(locale.LC_ALL, \"tr_TR\") # OR \"tr_TR.utf8\""
   ]
  },
  {
   "cell_type": "code",
   "execution_count": 3,
   "id": "f64bd686",
   "metadata": {},
   "outputs": [
    {
     "name": "stdout",
     "output_type": "stream",
     "text": [
      "['ç', 'ğ', 'ö', 'ş', 'ü']\n"
     ]
    }
   ],
   "source": [
    "print(sorted(\"çşüğö\", key=locale.strxfrm))"
   ]
  },
  {
   "cell_type": "code",
   "execution_count": 4,
   "id": "e4b9ea12",
   "metadata": {},
   "outputs": [
    {
     "name": "stdout",
     "output_type": "stream",
     "text": [
      "['ü', 'ş', 'ö', 'ğ', 'ç']\n"
     ]
    }
   ],
   "source": [
    "print(sorted(\"çşüğö\", key=locale.strxfrm, reverse=True))\n",
    "# sorted() metodunun key adlı özel bir parametresine locale.strxfrm değerini vererek \n",
    "#Türkçe'ye duyarlı bir sıralama yapılmasını sağladık."
   ]
  },
  {
   "cell_type": "code",
   "execution_count": null,
   "id": "aa3e905c",
   "metadata": {},
   "outputs": [],
   "source": []
  }
 ],
 "metadata": {
  "kernelspec": {
   "display_name": "Python 3 (ipykernel)",
   "language": "python",
   "name": "python3"
  },
  "language_info": {
   "codemirror_mode": {
    "name": "ipython",
    "version": 3
   },
   "file_extension": ".py",
   "mimetype": "text/x-python",
   "name": "python",
   "nbconvert_exporter": "python",
   "pygments_lexer": "ipython3",
   "version": "3.9.12"
  },
  "varInspector": {
   "cols": {
    "lenName": 16,
    "lenType": 16,
    "lenVar": 40
   },
   "kernels_config": {
    "python": {
     "delete_cmd_postfix": "",
     "delete_cmd_prefix": "del ",
     "library": "var_list.py",
     "varRefreshCmd": "print(var_dic_list())"
    },
    "r": {
     "delete_cmd_postfix": ") ",
     "delete_cmd_prefix": "rm(",
     "library": "var_list.r",
     "varRefreshCmd": "cat(var_dic_list()) "
    }
   },
   "types_to_exclude": [
    "module",
    "function",
    "builtin_function_or_method",
    "instance",
    "_Feature"
   ],
   "window_display": false
  }
 },
 "nbformat": 4,
 "nbformat_minor": 5
}
